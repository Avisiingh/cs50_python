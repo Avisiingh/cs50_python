{
 "cells": [
  {
   "cell_type": "code",
   "execution_count": 1,
   "id": "a2c3d2a1",
   "metadata": {},
   "outputs": [
    {
     "name": "stdout",
     "output_type": "stream",
     "text": [
      "hello,            avi\n"
     ]
    }
   ],
   "source": [
    "# Ask user for thir name\n",
    "name= input(\"what's your name? \")\n",
    "\n",
    "# say hello to user \n",
    "print(\"hello,\", name)    "
   ]
  },
  {
   "cell_type": "code",
   "execution_count": 3,
   "id": "5779f323",
   "metadata": {},
   "outputs": [
    {
     "name": "stdout",
     "output_type": "stream",
     "text": [
      "hello, avi\n"
     ]
    }
   ],
   "source": [
    "# Ask user for thir name\n",
    "name= input(\"what's your name? \")\n",
    "\n",
    "#remove white space from str\n",
    "name=name.strip()\n",
    "\n",
    "# say hello to user \n",
    "print(\"hello,\", name)"
   ]
  },
  {
   "cell_type": "code",
   "execution_count": 5,
   "id": "33130bae",
   "metadata": {},
   "outputs": [
    {
     "name": "stdout",
     "output_type": "stream",
     "text": [
      "hello, Avi singh\n"
     ]
    }
   ],
   "source": [
    "# Ask user for thir name\n",
    "name= input(\"what's your name? \")\n",
    "\n",
    "#remove white space from str\n",
    "name=name.strip()\n",
    "\n",
    "#Captilize user\"s name\n",
    "name =name.capitalize()\n",
    "\n",
    "# say hello to user \n",
    "print(\"hello,\", name)"
   ]
  },
  {
   "cell_type": "code",
   "execution_count": 6,
   "id": "8d41f354",
   "metadata": {},
   "outputs": [
    {
     "name": "stdout",
     "output_type": "stream",
     "text": [
      "hello, Avi Singh\n"
     ]
    }
   ],
   "source": [
    "# Ask user for thir name\n",
    "name= input(\"what's your name? \")\n",
    "\n",
    "#remove white space from str\n",
    "name=name.strip()\n",
    "\n",
    "#Captilize user\"s name\n",
    "name =name.title()\n",
    "\n",
    "# say hello to user \n",
    "print(\"hello,\", name)"
   ]
  },
  {
   "cell_type": "code",
   "execution_count": 7,
   "id": "5d66d003",
   "metadata": {},
   "outputs": [
    {
     "name": "stdout",
     "output_type": "stream",
     "text": [
      "hello, Avi Singh\n"
     ]
    }
   ],
   "source": [
    "# Ask user for thir name\n",
    "name= input(\"what's your name? \")\n",
    "\n",
    "#remove white space from str and Captilize user\"s name\n",
    "name=name.strip().title()\n",
    "\n",
    "# say hello to user \n",
    "print(\"hello,\", name)"
   ]
  },
  {
   "cell_type": "code",
   "execution_count": 9,
   "id": "1b4ad77a",
   "metadata": {},
   "outputs": [
    {
     "name": "stdout",
     "output_type": "stream",
     "text": [
      "hello, Avinash Singh\n"
     ]
    }
   ],
   "source": [
    "# Ask user for thir name\n",
    "name= input(\"what's your name? \").strip().title()\n",
    "\n",
    "# say hello to user \n",
    "print(\"hello,\", name)"
   ]
  },
  {
   "cell_type": "code",
   "execution_count": 12,
   "id": "54bf2ce5",
   "metadata": {},
   "outputs": [
    {
     "name": "stdout",
     "output_type": "stream",
     "text": [
      "hello, avi\n"
     ]
    }
   ],
   "source": [
    "# Ask user for thir name\n",
    "name= input(\"what's your name? \")\n",
    "\n",
    "#split user's name into first name and last namme\n",
    "first, last =name.split(\" \")\n",
    "\n",
    "# say hello to user \n",
    "print(f\"hello, {first}\")    # input = avi singh"
   ]
  }
 ],
 "metadata": {
  "kernelspec": {
   "display_name": "base",
   "language": "python",
   "name": "python3"
  },
  "language_info": {
   "codemirror_mode": {
    "name": "ipython",
    "version": 3
   },
   "file_extension": ".py",
   "mimetype": "text/x-python",
   "name": "python",
   "nbconvert_exporter": "python",
   "pygments_lexer": "ipython3",
   "version": "3.12.7"
  }
 },
 "nbformat": 4,
 "nbformat_minor": 5
}
