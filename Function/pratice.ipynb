{
 "cells": [
  {
   "cell_type": "code",
   "execution_count": 1,
   "id": "3ace9341",
   "metadata": {},
   "outputs": [
    {
     "name": "stdout",
     "output_type": "stream",
     "text": [
      "hello\n",
      "world\n",
      "good bye\n"
     ]
    }
   ],
   "source": [
    "## write b a program to display the message \"hello\", \"world\" and \"good bye\" .\n",
    "# # Each of the three message should get displayed on a diffrent line\n",
    "print(\"hello\")\n",
    "print(\"world\")\n",
    "print(\"good bye\")"
   ]
  },
  {
   "cell_type": "code",
   "execution_count": 4,
   "id": "c0c80ffe",
   "metadata": {},
   "outputs": [
    {
     "name": "stdout",
     "output_type": "stream",
     "text": [
      "hello world good bye\n"
     ]
    }
   ],
   "source": [
    "## write a basic program to make use of end argument and\n",
    "#  display the messages \"hello\", \"world\" and \"good bye\" in one line\n",
    "print(\"hello\", end=' ')\n",
    "print(\"world\",end=' ')\n",
    "print(\"good bye\")"
   ]
  },
  {
   "cell_type": "code",
   "execution_count": 6,
   "id": "c5d7f4ec",
   "metadata": {},
   "outputs": [
    {
     "name": "stdout",
     "output_type": "stream",
     "text": [
      "area of rectangle: 120\n"
     ]
    }
   ],
   "source": [
    "# write a program to calculate the area of rectangle.\n",
    "length =10\n",
    "width =12\n",
    "area= length * width\n",
    "print(f\"area of rectangle: {area}\")\n"
   ]
  },
  {
   "cell_type": "code",
   "execution_count": 7,
   "id": "879cd42e",
   "metadata": {},
   "outputs": [
    {
     "name": "stdout",
     "output_type": "stream",
     "text": [
      "hello\n",
      "i'm learning python\n",
      "thanks you , David sir\n"
     ]
    }
   ],
   "source": [
    "## write  a program t0o read string from the keyword\n",
    "str1=input(\"type something\")\n",
    "str2=input(\"type something\")\n",
    "str3=input(\"type something\")\n",
    "\n",
    "print(str1)\n",
    "print(str2)\n",
    "print(str3)"
   ]
  },
  {
   "cell_type": "code",
   "execution_count": 15,
   "id": "1b23c8ba",
   "metadata": {},
   "outputs": [
    {
     "name": "stdout",
     "output_type": "stream",
     "text": [
      "Enter number is:  10\n",
      "type of the number: <class 'str'>\n"
     ]
    }
   ],
   "source": [
    "##write a program to enter digits instead of char.\n",
    "\n",
    "x = input()\n",
    "\n",
    "print(\"Enter number is: \",x)\n",
    "print(f\"type of the number: {type(x)}\")"
   ]
  },
  {
   "cell_type": "code",
   "execution_count": 21,
   "id": "deeea78a",
   "metadata": {},
   "outputs": [
    {
     "name": "stdout",
     "output_type": "stream",
     "text": [
      "enter a number : \n",
      "entered number:  10\n",
      "type of our input <class 'str'>\n",
      "converted number:  10\n",
      "type of converted number : <class 'int'>\n"
     ]
    }
   ],
   "source": [
    "# write a program to  demonstrate the use of int and input function.\n",
    "print(\"enter a number : \")\n",
    "num1 = input()\n",
    "print(\"entered number: \",num1)\n",
    "print(\"type of our input\",type(num1))\n",
    "\n",
    "# converting number into int\n",
    "convert_num= int(num1)\n",
    "print(\"converted number: \",convert_num)\n",
    "print(\"type of converted number :\", type(convert_num))\n"
   ]
  },
  {
   "cell_type": "code",
   "execution_count": null,
   "id": "9df13852",
   "metadata": {},
   "outputs": [],
   "source": []
  }
 ],
 "metadata": {
  "kernelspec": {
   "display_name": "base",
   "language": "python",
   "name": "python3"
  },
  "language_info": {
   "codemirror_mode": {
    "name": "ipython",
    "version": 3
   },
   "file_extension": ".py",
   "mimetype": "text/x-python",
   "name": "python",
   "nbconvert_exporter": "python",
   "pygments_lexer": "ipython3",
   "version": "3.12.7"
  }
 },
 "nbformat": 4,
 "nbformat_minor": 5
}
