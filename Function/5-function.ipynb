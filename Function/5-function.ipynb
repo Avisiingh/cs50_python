{
 "cells": [
  {
   "cell_type": "markdown",
   "id": "a5ed82ea",
   "metadata": {},
   "source": [
    "#### Function"
   ]
  },
  {
   "cell_type": "code",
   "execution_count": 2,
   "id": "0213fba6",
   "metadata": {},
   "outputs": [
    {
     "name": "stdout",
     "output_type": "stream",
     "text": [
      "hello, Avi\n"
     ]
    }
   ],
   "source": [
    "# Ask user for their name\n",
    "name= input(\"what's your name? \").strip().title()\n",
    "\n",
    "# Say hello to user\n",
    "print(f\"hello, {name}\")"
   ]
  },
  {
   "cell_type": "code",
   "execution_count": 3,
   "id": "4c8b27f3",
   "metadata": {},
   "outputs": [
    {
     "ename": "NameError",
     "evalue": "name 'hello' is not defined",
     "output_type": "error",
     "traceback": [
      "\u001b[1;31m---------------------------------------------------------------------------\u001b[0m",
      "\u001b[1;31mNameError\u001b[0m                                 Traceback (most recent call last)",
      "Cell \u001b[1;32mIn[3], line 2\u001b[0m\n\u001b[0;32m      1\u001b[0m name \u001b[38;5;241m=\u001b[39m \u001b[38;5;28minput\u001b[39m(\u001b[38;5;124m\"\u001b[39m\u001b[38;5;124mwhat\u001b[39m\u001b[38;5;124m'\u001b[39m\u001b[38;5;124ms your name? \u001b[39m\u001b[38;5;124m\"\u001b[39m)\n\u001b[1;32m----> 2\u001b[0m hello()\n\u001b[0;32m      3\u001b[0m \u001b[38;5;28mprint\u001b[39m(name)\n",
      "\u001b[1;31mNameError\u001b[0m: name 'hello' is not defined"
     ]
    }
   ],
   "source": [
    "name = input(\"what's your name? \")\n",
    "hello()\n",
    "print(name)"
   ]
  },
  {
   "cell_type": "code",
   "execution_count": 5,
   "id": "9a2358bd",
   "metadata": {},
   "outputs": [
    {
     "name": "stdout",
     "output_type": "stream",
     "text": [
      "hello\n",
      "avi\n"
     ]
    }
   ],
   "source": [
    "def hello():\n",
    "    print(\"hello\")\n",
    "name = input(\"what's your name? \")\n",
    "hello()\n",
    "print(name)"
   ]
  },
  {
   "cell_type": "code",
   "execution_count": 6,
   "id": "b1947c17",
   "metadata": {},
   "outputs": [
    {
     "name": "stdout",
     "output_type": "stream",
     "text": [
      "hello, avi\n"
     ]
    }
   ],
   "source": [
    "## improve function\n",
    "def hello(to):\n",
    "    print(\"hello,\",to)\n",
    "name = input(\"what's your name? \")\n",
    "hello(name)"
   ]
  },
  {
   "cell_type": "code",
   "execution_count": 10,
   "id": "517fba5c",
   "metadata": {},
   "outputs": [
    {
     "name": "stdout",
     "output_type": "stream",
     "text": [
      "hello, world\n",
      "hello, avi\n"
     ]
    }
   ],
   "source": [
    "def hello(to=\"world\"):    # incase user don't proivde any parametr\n",
    "    print(\"hello,\",to)\n",
    "hello()\n",
    "name = input(\"what's your name? \")\n",
    "hello(name)"
   ]
  },
  {
   "cell_type": "code",
   "execution_count": 9,
   "id": "443414d4",
   "metadata": {},
   "outputs": [
    {
     "name": "stdout",
     "output_type": "stream",
     "text": [
      "hello, world\n"
     ]
    }
   ],
   "source": [
    "def hello(to=\"world\"):    # incase user don't proivde any parametr\n",
    "    print(\"hello,\",to)\n",
    "hello()   # no parameter"
   ]
  },
  {
   "cell_type": "code",
   "execution_count": 13,
   "id": "578da6eb",
   "metadata": {},
   "outputs": [],
   "source": [
    "def main():\n",
    "    name = input(\"what's your name? \")\n",
    "    hello(name)\n",
    "\n",
    "def hello(to =\"world\"):\n",
    "    print(\"hello,\",to)\n",
    "\n"
   ]
  },
  {
   "cell_type": "code",
   "execution_count": 14,
   "id": "2b8df9e0",
   "metadata": {},
   "outputs": [
    {
     "name": "stdout",
     "output_type": "stream",
     "text": [
      "hello, avi\n"
     ]
    }
   ],
   "source": [
    "def main():\n",
    "    name = input(\"what's your name? \")\n",
    "    hello(name)\n",
    "\n",
    "def hello(to =\"world\"):\n",
    "    print(\"hello,\",to)\n",
    "\n",
    "main()"
   ]
  },
  {
   "cell_type": "code",
   "execution_count": 17,
   "id": "f0222b9a",
   "metadata": {},
   "outputs": [
    {
     "name": "stdout",
     "output_type": "stream",
     "text": [
      "hello, avi\n"
     ]
    }
   ],
   "source": [
    "def main():\n",
    "    name = input(\"what's your name? \")\n",
    "    hello()\n",
    "\n",
    "def hello():\n",
    "    print(\"hello,\",name)\n",
    "\n",
    "main()"
   ]
  },
  {
   "cell_type": "code",
   "execution_count": null,
   "id": "dc5320a2",
   "metadata": {},
   "outputs": [],
   "source": [
    "## scope"
   ]
  }
 ],
 "metadata": {
  "kernelspec": {
   "display_name": "base",
   "language": "python",
   "name": "python3"
  },
  "language_info": {
   "codemirror_mode": {
    "name": "ipython",
    "version": 3
   },
   "file_extension": ".py",
   "mimetype": "text/x-python",
   "name": "python",
   "nbconvert_exporter": "python",
   "pygments_lexer": "ipython3",
   "version": "3.12.7"
  }
 },
 "nbformat": 4,
 "nbformat_minor": 5
}
