{
 "cells": [
  {
   "cell_type": "markdown",
   "id": "74ee9635",
   "metadata": {},
   "source": [
    "#### Int"
   ]
  },
  {
   "cell_type": "code",
   "execution_count": 1,
   "id": "c78b4a9f",
   "metadata": {},
   "outputs": [
    {
     "name": "stdout",
     "output_type": "stream",
     "text": [
      "3\n"
     ]
    }
   ],
   "source": [
    "x = 1\n",
    "y = 2\n",
    "z = x + y\n",
    "print(z)"
   ]
  },
  {
   "cell_type": "code",
   "execution_count": null,
   "id": "5497f7b2",
   "metadata": {},
   "outputs": [
    {
     "name": "stdout",
     "output_type": "stream",
     "text": [
      "1212\n"
     ]
    }
   ],
   "source": [
    "x = input(\"what's x ?\")\n",
    "y = input(\"what's y ?\")\n",
    "z = x + y  # str + str = 12 + 12 = 1212  its concatenates\n",
    "print(z)"
   ]
  },
  {
   "cell_type": "code",
   "execution_count": 5,
   "id": "500f1dc0",
   "metadata": {},
   "outputs": [
    {
     "name": "stdout",
     "output_type": "stream",
     "text": [
      "24\n"
     ]
    }
   ],
   "source": [
    "# converting str to int\n",
    "x = input(\"what's x ?\")\n",
    "y = input(\"what's y ?\")\n",
    "z = int(x) + int(y)\n",
    "print(z)"
   ]
  },
  {
   "cell_type": "code",
   "execution_count": 6,
   "id": "ba2793bd",
   "metadata": {},
   "outputs": [
    {
     "name": "stdout",
     "output_type": "stream",
     "text": [
      "242\n"
     ]
    }
   ],
   "source": [
    "x = int(input(\"what's x ?\"))\n",
    "y = int(input(\"what's y ?\"))\n",
    "\n",
    "print(x + y)\n"
   ]
  },
  {
   "cell_type": "code",
   "execution_count": 8,
   "id": "812f8448",
   "metadata": {},
   "outputs": [
    {
     "name": "stdout",
     "output_type": "stream",
     "text": [
      "242\n"
     ]
    }
   ],
   "source": [
    "# we can write but it complicated\n",
    "print(int(input(\"what's x ?\")) + int(input(\"what's y ?\")))"
   ]
  },
  {
   "cell_type": "markdown",
   "id": "550fc186",
   "metadata": {},
   "source": [
    "#### Float\n"
   ]
  },
  {
   "cell_type": "code",
   "execution_count": 9,
   "id": "9d77577a",
   "metadata": {},
   "outputs": [
    {
     "name": "stdout",
     "output_type": "stream",
     "text": [
      "35.4\n"
     ]
    }
   ],
   "source": [
    "x = float(input(\"what's x ?\"))\n",
    "y = float(input(\"what's y ?\"))\n",
    "\n",
    "print(x + y)"
   ]
  },
  {
   "cell_type": "code",
   "execution_count": 10,
   "id": "217ac360",
   "metadata": {},
   "outputs": [
    {
     "name": "stdout",
     "output_type": "stream",
     "text": [
      "36\n"
     ]
    }
   ],
   "source": [
    "## round(number[, ndigits])\n",
    "x = float(input(\"what's x ?\"))\n",
    "y = float(input(\"what's y ?\"))\n",
    "z = round(x + y)\n",
    "print(z)"
   ]
  },
  {
   "cell_type": "code",
   "execution_count": 11,
   "id": "b8e21a47",
   "metadata": {},
   "outputs": [
    {
     "name": "stdout",
     "output_type": "stream",
     "text": [
      "1,000\n"
     ]
    }
   ],
   "source": [
    "x = float(input(\"what's x ?\"))\n",
    "y = float(input(\"what's y ?\"))\n",
    "z = round(x + y)\n",
    "print(f'{z:,}')"
   ]
  },
  {
   "cell_type": "code",
   "execution_count": 14,
   "id": "883eb09d",
   "metadata": {},
   "outputs": [
    {
     "name": "stdout",
     "output_type": "stream",
     "text": [
      "0.43\n"
     ]
    }
   ],
   "source": [
    "# division\n",
    "x = float(input(\"what's your x? \"))\n",
    "y = float(input(\"what's your y? \"))\n",
    "\n",
    "z = round(x/y,2)\n",
    "print(z)"
   ]
  },
  {
   "cell_type": "code",
   "execution_count": 15,
   "id": "a1d91d48",
   "metadata": {},
   "outputs": [
    {
     "name": "stdout",
     "output_type": "stream",
     "text": [
      "0.43\n"
     ]
    }
   ],
   "source": [
    "x = float(input(\"what's your x? \"))\n",
    "y = float(input(\"what's your y? \"))\n",
    "\n",
    "z = x / y\n",
    "print(f\"{z:.2f}\")"
   ]
  }
 ],
 "metadata": {
  "kernelspec": {
   "display_name": "base",
   "language": "python",
   "name": "python3"
  },
  "language_info": {
   "codemirror_mode": {
    "name": "ipython",
    "version": 3
   },
   "file_extension": ".py",
   "mimetype": "text/x-python",
   "name": "python",
   "nbconvert_exporter": "python",
   "pygments_lexer": "ipython3",
   "version": "3.12.7"
  }
 },
 "nbformat": 4,
 "nbformat_minor": 5
}
