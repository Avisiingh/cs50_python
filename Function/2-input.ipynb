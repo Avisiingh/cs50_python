{
 "cells": [
  {
   "cell_type": "code",
   "execution_count": 5,
   "id": "3a8116ad",
   "metadata": {},
   "outputs": [
    {
     "name": "stdout",
     "output_type": "stream",
     "text": [
      "hello,\n",
      "avi\n"
     ]
    }
   ],
   "source": [
    "name = input(\"what's your name? \")\n",
    "print(\"hello,\")\n",
    "print(name)"
   ]
  },
  {
   "cell_type": "code",
   "execution_count": 15,
   "id": "43f78edd",
   "metadata": {},
   "outputs": [
    {
     "name": "stdout",
     "output_type": "stream",
     "text": [
      "hello,avi\n"
     ]
    }
   ],
   "source": [
    "name = input(\"what's your name? \")\n",
    "print(\"hello,\", end=\"\")\n",
    "print(name)"
   ]
  },
  {
   "cell_type": "code",
   "execution_count": 3,
   "id": "ba859732",
   "metadata": {},
   "outputs": [],
   "source": [
    "# psudecode\n",
    "\n",
    "# Ask user for thir name\n",
    "\n",
    "# say hello to user name"
   ]
  },
  {
   "cell_type": "code",
   "execution_count": 6,
   "id": "e4d901ef",
   "metadata": {},
   "outputs": [
    {
     "name": "stdout",
     "output_type": "stream",
     "text": [
      "hello,avi\n"
     ]
    }
   ],
   "source": [
    "# Ask user for thir name\n",
    "name= input(\"what's your name? \")\n",
    "\n",
    "# say hello to user \n",
    "print(\"hello,\"+ name)"
   ]
  },
  {
   "cell_type": "code",
   "execution_count": 11,
   "id": "cca84f76",
   "metadata": {},
   "outputs": [
    {
     "name": "stdout",
     "output_type": "stream",
     "text": [
      "hello, avi\n"
     ]
    }
   ],
   "source": [
    "# Ask user for thir name\n",
    "name= input(\"what's your name? \")\n",
    "\n",
    "# say hello to user \n",
    "print(\"hello,\", name)"
   ]
  },
  {
   "cell_type": "code",
   "execution_count": 13,
   "id": "e3a7b134",
   "metadata": {},
   "outputs": [
    {
     "name": "stdout",
     "output_type": "stream",
     "text": [
      "hello, avi\n"
     ]
    }
   ],
   "source": [
    "# Ask user for thir name\n",
    "name= input(\"what's your name? \")\n",
    "\n",
    "# say hello to user \n",
    "print(\"hello, \"+ name)   # \"hello, \"+ name = concatenates (string + string)"
   ]
  },
  {
   "cell_type": "code",
   "execution_count": null,
   "id": "d58064fd",
   "metadata": {},
   "outputs": [
    {
     "name": "stdout",
     "output_type": "stream",
     "text": [
      "hello, ??avi\n"
     ]
    }
   ],
   "source": [
    "# Ask user for thir name\n",
    "name= input(\"what's your name? \")\n",
    "\n",
    "# say hello to user \n",
    "print(\"hello, \", name, sep='??')   ## sep =\" \", end=\"\" (parmeters)"
   ]
  },
  {
   "cell_type": "code",
   "execution_count": 1,
   "id": "7442c730",
   "metadata": {},
   "outputs": [
    {
     "ename": "SyntaxError",
     "evalue": "invalid syntax. Perhaps you forgot a comma? (476618053.py, line 2)",
     "output_type": "error",
     "traceback": [
      "\u001b[1;36m  Cell \u001b[1;32mIn[1], line 2\u001b[1;36m\u001b[0m\n\u001b[1;33m    print(\"hello, \"freind\"\")\u001b[0m\n\u001b[1;37m          ^\u001b[0m\n\u001b[1;31mSyntaxError\u001b[0m\u001b[1;31m:\u001b[0m invalid syntax. Perhaps you forgot a comma?\n"
     ]
    }
   ],
   "source": [
    "#say hello to user\n",
    "print(\"hello, \"freind\"\")"
   ]
  },
  {
   "cell_type": "code",
   "execution_count": 2,
   "id": "45e92c96",
   "metadata": {},
   "outputs": [
    {
     "name": "stdout",
     "output_type": "stream",
     "text": [
      "hello, \"freind\"\n"
     ]
    }
   ],
   "source": [
    "#say hello to user\n",
    "print(\"hello, \\\"freind\\\"\")"
   ]
  },
  {
   "cell_type": "code",
   "execution_count": 4,
   "id": "c06f67b5",
   "metadata": {},
   "outputs": [
    {
     "name": "stdout",
     "output_type": "stream",
     "text": [
      "hello, avi\n"
     ]
    }
   ],
   "source": [
    "# Ask user for thir name\n",
    "name= input(\"what's your name? \")\n",
    "\n",
    "# say hello to user \n",
    "print(f\"hello, {name}\")   # another way to print(formating)"
   ]
  },
  {
   "cell_type": "code",
   "execution_count": null,
   "id": "1d31340c",
   "metadata": {},
   "outputs": [],
   "source": []
  }
 ],
 "metadata": {
  "kernelspec": {
   "display_name": "base",
   "language": "python",
   "name": "python3"
  },
  "language_info": {
   "codemirror_mode": {
    "name": "ipython",
    "version": 3
   },
   "file_extension": ".py",
   "mimetype": "text/x-python",
   "name": "python",
   "nbconvert_exporter": "python",
   "pygments_lexer": "ipython3",
   "version": "3.12.7"
  }
 },
 "nbformat": 4,
 "nbformat_minor": 5
}
